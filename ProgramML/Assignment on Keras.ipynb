{
 "cells": [
  {
   "cell_type": "markdown",
   "id": "fb6e670f",
   "metadata": {},
   "source": [
    "## Assignment on Keras"
   ]
  },
  {
   "cell_type": "code",
   "execution_count": 1,
   "id": "14484e34",
   "metadata": {
    "scrolled": true
   },
   "outputs": [],
   "source": [
    "import numpy as np\n",
    "import pandas as pd\n",
    "import tensorflow as tf\n",
    "from sklearn.model_selection import train_test_split\n",
    "from sklearn.preprocessing import StandardScaler\n",
    "from sklearn.metrics import confusion_matrix, accuracy_score"
   ]
  },
  {
   "cell_type": "markdown",
   "id": "e567f823",
   "metadata": {},
   "source": [
    "#### 1. Go through the csv (Indiana-diabetes) file and find the prediction of first 15 records. Change the number of layers and then test the model. What is the change you note?"
   ]
  },
  {
   "cell_type": "code",
   "execution_count": 2,
   "id": "cc44a851",
   "metadata": {},
   "outputs": [
    {
     "name": "stdout",
     "output_type": "stream",
     "text": [
      "1/1 [==============================] - 0s 375ms/step - loss: 0.5709 - accuracy: 0.6000\n",
      "1/1 [==============================] - 0s 70ms/step\n",
      "Predicting Test set results:\n",
      " [[0 0]\n",
      " [1 1]\n",
      " [1 1]\n",
      " [0 1]\n",
      " [1 1]]\n",
      "Confusion Matrix:\n",
      " [[1 0]\n",
      " [1 3]]\n",
      "Accuracy (%) =  80.0\n"
     ]
    }
   ],
   "source": [
    "df = pd.read_csv(\"F:/BTech/ADV. PYTHON LAB/dataset/Indians_diabetes.csv\")\n",
    "x = df.iloc[:15, :].values\n",
    "y = df.iloc[:15, -1].values\n",
    "x_train, x_test, y_train, y_test = train_test_split(x, y, test_size=0.3, random_state=0)\n",
    "sc = StandardScaler()\n",
    "x_train = sc.fit_transform(x_train)\n",
    "x_test = sc.transform(x_test)\n",
    "ann = tf.keras.models.Sequential()\n",
    "ann.add(tf.keras.layers.Dense(units=6, activation='relu'))\n",
    "ann.add(tf.keras.layers.Dense(units=6, activation='relu'))\n",
    "ann.add(tf.keras.layers.Dense(units=1, activation='sigmoid'))\n",
    "ann.compile(optimizer='adam', loss='binary_crossentropy', metrics=['accuracy'])\n",
    "ann.fit(x_train, y_train, batch_size=15)\n",
    "# print(ann.predict(sc.transform([[0, 120, 80, 30, 30, 20, 2, 54, 1]])) > 0.5)\n",
    "y_pred = ann.predict(x_test)\n",
    "y_pred = y_pred > 0.5\n",
    "print(\"Predicting Test set results:\\n\",\n",
    "      np.concatenate((y_pred.reshape(len(y_pred),1),y_test.reshape(len(y_test),1)),1))\n",
    "cm = confusion_matrix(y_test, y_pred)\n",
    "print(\"Confusion Matrix:\\n\",cm)\n",
    "print(\"Accuracy (%) = \",(accuracy_score(y_test,y_pred)) * 100)"
   ]
  }
 ],
 "metadata": {
  "kernelspec": {
   "display_name": "Python 3",
   "language": "python",
   "name": "python3"
  },
  "language_info": {
   "codemirror_mode": {
    "name": "ipython",
    "version": 3
   },
   "file_extension": ".py",
   "mimetype": "text/x-python",
   "name": "python",
   "nbconvert_exporter": "python",
   "pygments_lexer": "ipython3",
   "version": "3.8.8"
  }
 },
 "nbformat": 4,
 "nbformat_minor": 5
}
