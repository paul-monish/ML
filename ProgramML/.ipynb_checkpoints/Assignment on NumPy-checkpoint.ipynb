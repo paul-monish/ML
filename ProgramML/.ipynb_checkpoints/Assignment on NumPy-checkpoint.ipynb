{
 "cells": [
  {
   "cell_type": "markdown",
   "id": "30d152a9",
   "metadata": {},
   "source": [
    "### Assignment on NumPy"
   ]
  },
  {
   "cell_type": "markdown",
   "id": "9c4b97fb",
   "metadata": {},
   "source": [
    "#### 1. Take a 3X3 matrix randomly and another matrix by assigning elements. Now add the 2 matrix and store it in a separate matrix C."
   ]
  },
  {
   "cell_type": "code",
   "execution_count": 1,
   "id": "c2ffb48b",
   "metadata": {},
   "outputs": [],
   "source": [
    "import numpy as np"
   ]
  },
  {
   "cell_type": "code",
   "execution_count": 2,
   "id": "c924745e",
   "metadata": {},
   "outputs": [
    {
     "data": {
      "text/plain": [
       "array([[0.38630526, 1.40491076, 2.04735844],\n",
       "       [3.92902231, 4.38155611, 5.06862464],\n",
       "       [6.4424677 , 7.50230051, 8.25238764]])"
      ]
     },
     "execution_count": 2,
     "metadata": {},
     "output_type": "execute_result"
    }
   ],
   "source": [
    "a=np.random.rand(3,3)\n",
    "b=np.arange(9).reshape(3,3)\n",
    "c=a+b\n",
    "c"
   ]
  },
  {
   "cell_type": "markdown",
   "id": "29bbec03",
   "metadata": {},
   "source": [
    "#### 2. Take 3X3 matrixes add it with another 3x3 of all 1 matrix and convert that to a complex data type matrix."
   ]
  },
  {
   "cell_type": "code",
   "execution_count": 3,
   "id": "3c93b95a",
   "metadata": {},
   "outputs": [
    {
     "data": {
      "text/plain": [
       "array([[0.38630526+0.j, 1.40491076+0.j, 2.04735844+0.j],\n",
       "       [3.92902231+0.j, 4.38155611+0.j, 5.06862464+0.j],\n",
       "       [6.4424677 +0.j, 7.50230051+0.j, 8.25238764+0.j]])"
      ]
     },
     "execution_count": 3,
     "metadata": {},
     "output_type": "execute_result"
    }
   ],
   "source": [
    "ran_arr=np.arange(9).reshape(3,3)\n",
    "one_arr=np.ones((3,3),dtype=int)\n",
    "res_arr=np.add(a,b)\n",
    "np.array(res_arr,dtype=complex)"
   ]
  },
  {
   "cell_type": "markdown",
   "id": "57b22f90",
   "metadata": {},
   "source": [
    "#### 3. Take a 3X3 matrix and multiply element wise with 3X3 another matrix."
   ]
  },
  {
   "cell_type": "code",
   "execution_count": 4,
   "id": "8720529c",
   "metadata": {},
   "outputs": [
    {
     "data": {
      "text/plain": [
       "array([[0, 1, 2],\n",
       "       [3, 4, 5],\n",
       "       [6, 7, 8]])"
      ]
     },
     "execution_count": 4,
     "metadata": {},
     "output_type": "execute_result"
    }
   ],
   "source": [
    "ran_arr2=np.arange(9).reshape(3,3)\n",
    "one_arr2=np.ones((3,3),dtype=int)\n",
    "np.multiply(ran_arr2,one_arr2)"
   ]
  },
  {
   "cell_type": "markdown",
   "id": "d73b7986",
   "metadata": {},
   "source": [
    "#### 4. Multiply 2 3X3 matrixes."
   ]
  },
  {
   "cell_type": "code",
   "execution_count": 5,
   "id": "66ac0d7b",
   "metadata": {},
   "outputs": [
    {
     "data": {
      "text/plain": [
       "array([[ 0,  1,  4],\n",
       "       [ 9, 16, 25],\n",
       "       [36, 49, 64]])"
      ]
     },
     "execution_count": 5,
     "metadata": {},
     "output_type": "execute_result"
    }
   ],
   "source": [
    "ran_arr3=np.arange(9).reshape(3,3)\n",
    "np.multiply(ran_arr3,ran_arr3)"
   ]
  },
  {
   "cell_type": "markdown",
   "id": "ba795496",
   "metadata": {},
   "source": [
    "#### 5. Randomly generate 10 numbers in between 1 to 10 and convert that to a 5X2 matrix. Take a floating-point matrix and perform the addition. a= floating point matrix and b is an integer matrix of same dimension. Why a+=b is not equal to b+=a. Explain briefly. How can we resolve this problem?"
   ]
  },
  {
   "cell_type": "code",
   "execution_count": 6,
   "id": "5d22993f",
   "metadata": {},
   "outputs": [
    {
     "data": {
      "text/plain": [
       "array([[ 2.,  2.],\n",
       "       [16., 14.],\n",
       "       [18., 12.],\n",
       "       [12.,  2.],\n",
       "       [16., 14.]])"
      ]
     },
     "execution_count": 6,
     "metadata": {},
     "output_type": "execute_result"
    }
   ],
   "source": [
    "ran_B=np.random.randint(1,10,(5,2))\n",
    "ran_A=np.array(ran_B,dtype=float)\n",
    "np.add(ran_A,ran_B)"
   ]
  },
  {
   "cell_type": "markdown",
   "id": "1e89c03a",
   "metadata": {},
   "source": [
    "#### 6. Take x values and plot the cos(x) and tan(x) in a graph using matplotlib."
   ]
  },
  {
   "cell_type": "code",
   "execution_count": 7,
   "id": "7575a03d",
   "metadata": {},
   "outputs": [],
   "source": [
    "import matplotlib.pyplot as plt"
   ]
  },
  {
   "cell_type": "code",
   "execution_count": 8,
   "id": "29986762",
   "metadata": {},
   "outputs": [
    {
     "data": {
      "image/png": "[encoded data removed]",
      "text/plain": [
       "<Figure size 432x288 with 1 Axes>"
      ]
     },
     "metadata": {
      "needs_background": "light"
     },
     "output_type": "display_data"
    },
    {
     "data": {
      "image/png": "[encoded data removed]",
      "text/plain": [
       "<Figure size 432x288 with 1 Axes>"
      ]
     },
     "metadata": {
      "needs_background": "light"
     },
     "output_type": "display_data"
    }
   ],
   "source": [
    "x=np.arange(-1,1,0.01)\n",
    "plt.xlabel('X values')\n",
    "plt.ylabel('cos(x)')\n",
    "plt.plot(x,np.cos(x))\n",
    "plt.show()\n",
    "plt.xlabel('X values')\n",
    "plt.ylabel('tan(x)')\n",
    "plt.plot(x,np.tan(x))\n",
    "plt.show()"
   ]
  },
  {
   "cell_type": "markdown",
   "id": "69ee0f59",
   "metadata": {},
   "source": [
    "#### 7. Take a multidimensional array (3, 3, 3) and print the last column."
   ]
  },
  {
   "cell_type": "code",
   "execution_count": 9,
   "id": "d324c5d5",
   "metadata": {},
   "outputs": [
    {
     "data": {
      "text/plain": [
       "array([[18, 19, 20],\n",
       "       [21, 22, 23],\n",
       "       [24, 25, 26]])"
      ]
     },
     "execution_count": 9,
     "metadata": {},
     "output_type": "execute_result"
    }
   ],
   "source": [
    "mul_arr=np.arange(27).reshape(3,3,3)\n",
    "mul_arr[-1]"
   ]
  },
  {
   "cell_type": "markdown",
   "id": "27c24199",
   "metadata": {},
   "source": [
    "#### 8. Take a function f(x) =x^3 + 5y +4z and determine the values and store them in a (3,3,3) matrix."
   ]
  },
  {
   "cell_type": "code",
   "execution_count": 10,
   "id": "d8242362",
   "metadata": {},
   "outputs": [
    {
     "data": {
      "text/plain": [
       "array([[[ 0,  4,  8],\n",
       "        [ 5,  9, 13],\n",
       "        [10, 14, 18]],\n",
       "\n",
       "       [[ 1,  5,  9],\n",
       "        [ 6, 10, 14],\n",
       "        [11, 15, 19]],\n",
       "\n",
       "       [[ 8, 12, 16],\n",
       "        [13, 17, 21],\n",
       "        [18, 22, 26]]])"
      ]
     },
     "execution_count": 10,
     "metadata": {},
     "output_type": "execute_result"
    }
   ],
   "source": [
    "def fx(x,y,z):\n",
    "    return ((x**3)+(5*y)+(4*z))\n",
    "np.fromfunction(fx,(3,3,3),dtype=int)"
   ]
  },
  {
   "cell_type": "markdown",
   "id": "fc3c7c6c",
   "metadata": {},
   "source": [
    "#### 9. Using axis add the column values of a 3X3 matrix and then add it with the maximum values of rows taken in a 3X 3 matrix."
   ]
  },
  {
   "cell_type": "code",
   "execution_count": 11,
   "id": "470b18b9",
   "metadata": {},
   "outputs": [
    {
     "name": "stdout",
     "output_type": "stream",
     "text": [
      "[[0 1 2]\n",
      " [3 4 5]\n",
      " [6 7 8]]\n",
      "[ 9 12 15]\n",
      "[2 5 8]\n"
     ]
    },
    {
     "data": {
      "text/plain": [
       "array([11, 17, 23])"
      ]
     },
     "execution_count": 11,
     "metadata": {},
     "output_type": "execute_result"
    }
   ],
   "source": [
    "a=np.array([[0,1,2],[3,4,5],[6,7,8]])\n",
    "print(a)\n",
    "sum_row=a.sum(axis=0)\n",
    "print(sum_row)\n",
    "max_col=a.max(axis=1)\n",
    "print(max_col)\n",
    "np.add(sum_row,max_col)"
   ]
  },
  {
   "cell_type": "markdown",
   "id": "393f80a8",
   "metadata": {},
   "source": [
    "#### 10. f(x) = x^3 + 5y and store it in (3,3) matrix."
   ]
  },
  {
   "cell_type": "code",
   "execution_count": 12,
   "id": "a32ac71f",
   "metadata": {},
   "outputs": [
    {
     "data": {
      "text/plain": [
       "array([[ 0,  5, 10],\n",
       "       [ 1,  6, 11],\n",
       "       [ 8, 13, 18]])"
      ]
     },
     "execution_count": 12,
     "metadata": {},
     "output_type": "execute_result"
    }
   ],
   "source": [
    "def fx(x,y):\n",
    "    return ((x**3)+(5*y))\n",
    "np.fromfunction(fx,(3,3),dtype=int)"
   ]
  },
  {
   "cell_type": "markdown",
   "id": "a055f492",
   "metadata": {},
   "source": [
    "#### 11. Take a function array 'a' cube with a range of 20 and find out what will be the value of a [[7,8], [9,11]]. If we take values a [[7, 8], [9, 21]] will it take if not why?"
   ]
  },
  {
   "cell_type": "code",
   "execution_count": 13,
   "id": "fa2a3192",
   "metadata": {},
   "outputs": [
    {
     "name": "stdout",
     "output_type": "stream",
     "text": [
      "[[7,8], [9,11]]:\n",
      " [[ 343  512]\n",
      " [ 729 1331]]\n"
     ]
    }
   ],
   "source": [
    "ran_arr11=np.arange(20)**3\n",
    "temp=np.array([[7,8],[9,11]])\n",
    "print(\"[[7,8], [9,11]]:\\n\",ran_arr11[temp])\n",
    "#np.array([[7,8],[9,21]])\n",
    "#IndexError: index 21 is out of bounds for axis 0 with size 20"
   ]
  },
  {
   "cell_type": "markdown",
   "id": "5ab4abe5",
   "metadata": {},
   "source": []
  },
  {
   "cell_type": "markdown",
   "id": "c4c6e479",
   "metadata": {},
   "source": [
    "#### 12. Take a random number from 0 to 19 and make a 4X5 matrix then find the values of (i) 3rd row and 4th column only and (ii) only 4th column values."
   ]
  },
  {
   "cell_type": "code",
   "execution_count": 14,
   "id": "75ad64eb",
   "metadata": {},
   "outputs": [
    {
     "name": "stdout",
     "output_type": "stream",
     "text": [
      " [[ 6 10  8 16 18]\n",
      " [ 9 14  5 17  2]\n",
      " [ 5  2 15  5 16]\n",
      " [ 7 16  6  8  5]]\n",
      "3rd row and 4th column:\n",
      " 16\n",
      "4th column values:\n",
      " [18  2 16  5]\n"
     ]
    }
   ],
   "source": [
    "ran_arr12=np.random.randint(0,19,(4,5))\n",
    "print(\"\",ran_arr12)\n",
    "#i)\n",
    "print(\"3rd row and 4th column:\\n\",ran_arr12[-2,-1])\n",
    "#ii)\n",
    "print(\"4th column values:\\n\",ran_arr12[...,4])"
   ]
  },
  {
   "cell_type": "markdown",
   "id": "6dde72c9",
   "metadata": {},
   "source": [
    "#### 13. Take a matrix of 4X3 randomly and create 2 3x3 values i and j respectively and take a tuple named m with i and j as an argument and generate the values of the matrix for the specified tuple. i<=4 and j<=3."
   ]
  },
  {
   "cell_type": "code",
   "execution_count": 15,
   "id": "959f1a0d",
   "metadata": {},
   "outputs": [
    {
     "data": {
      "text/plain": [
       "array([[7, 2, 3],\n",
       "       [3, 8, 1],\n",
       "       [1, 3, 8]])"
      ]
     },
     "execution_count": 15,
     "metadata": {},
     "output_type": "execute_result"
    }
   ],
   "source": [
    "i=np.array([[2,0,1],[1,2,0],[0,1,2]])\n",
    "j=np.array([[1,2,0],[0,2,1],[1,0,2]])\n",
    "arr13=np.arange(12).reshape(4,3)\n",
    "m=(i,j)\n",
    "arr13[m]"
   ]
  },
  {
   "cell_type": "markdown",
   "id": "11da5ba3",
   "metadata": {},
   "source": [
    "#### 14. Take a matrix of 3x3 and find out the Eigen vector and Eigen values of that matrix."
   ]
  },
  {
   "cell_type": "code",
   "execution_count": 16,
   "id": "6f5528cb",
   "metadata": {},
   "outputs": [
    {
     "name": "stdout",
     "output_type": "stream",
     "text": [
      "Eigen vector:\n",
      " [ 1.33484692e+01 -1.34846923e+00 -1.15433316e-15]\n",
      "Eigen values:\n",
      " [[ 0.16476382  0.79969966  0.40824829]\n",
      " [ 0.50577448  0.10420579 -0.81649658]\n",
      " [ 0.84678513 -0.59128809  0.40824829]]\n"
     ]
    }
   ],
   "source": [
    "r=np.arange(9).reshape(3,3)\n",
    "w,v=np.linalg.eig(r)\n",
    "print(\"Eigen vector:\\n\",w)\n",
    "print(\"Eigen values:\\n\",v)"
   ]
  },
  {
   "cell_type": "markdown",
   "id": "1df511ff",
   "metadata": {},
   "source": [
    "#### 15. Take a matrix and by taking the i, j or x, y values implement the hstack and vstack methods."
   ]
  },
  {
   "cell_type": "code",
   "execution_count": 17,
   "id": "ff0d4a41",
   "metadata": {},
   "outputs": [
    {
     "name": "stdout",
     "output_type": "stream",
     "text": [
      "Using vstack():\n",
      " [[0 2 4 6 8]\n",
      " [0 1 2 3 4]]\n",
      "Using hstack():\n",
      " [0 2 4 6 8 0 1 2 3 4]\n"
     ]
    }
   ],
   "source": [
    "x=np.arange(0,10,2)\n",
    "y=np.arange(5)\n",
    "print(\"Using vstack():\\n\",np.vstack([x,y]))\n",
    "print(\"Using hstack():\\n\",np.hstack([x,y]))"
   ]
  }
 ],
 "metadata": {
  "kernelspec": {
   "display_name": "Python 3",
   "language": "python",
   "name": "python3"
  },
  "language_info": {
   "codemirror_mode": {
    "name": "ipython",
    "version": 3
   },
   "file_extension": ".py",
   "mimetype": "text/x-python",
   "name": "python",
   "nbconvert_exporter": "python",
   "pygments_lexer": "ipython3",
   "version": "3.8.8"
  }
 },
 "nbformat": 4,
 "nbformat_minor": 5
}
