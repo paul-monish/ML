{
 "cells": [
  {
   "cell_type": "markdown",
   "id": "dc9761d2",
   "metadata": {},
   "source": [
    "## Assignment on Matplotlib"
   ]
  },
  {
   "cell_type": "code",
   "execution_count": 1,
   "id": "547d8e60",
   "metadata": {},
   "outputs": [],
   "source": [
    "import pandas as pd\n",
    "import matplotlib.pyplot as plt"
   ]
  },
  {
   "cell_type": "markdown",
   "id": "cd1039df",
   "metadata": {},
   "source": [
    "#### 1. Take a data set in a data frame and plot the bar chart example may be year of Production and the Production Quantity. (Take help of Pandas)"
   ]
  },
  {
   "cell_type": "code",
   "execution_count": 5,
   "id": "1f22f8c5",
   "metadata": {},
   "outputs": [
    {
     "data": {
      "image/png": "[encoded data removed]",
      "text/plain": [
       "<Figure size 432x288 with 1 Axes>"
      ]
     },
     "metadata": {
      "needs_background": "light"
     },
     "output_type": "display_data"
    }
   ],
   "source": [
    "data={'Year of Production':['2018','2019','2020','2021'],'Production Quantity':\n",
    "[100000,55000,68000,90000]}\n",
    "df=pd.DataFrame(data)\n",
    "x = df['Year of Production']\n",
    "y = df['Production Quantity']\n",
    "plt.bar(x, y)\n",
    "plt.show()"
   ]
  },
  {
   "cell_type": "markdown",
   "id": "1028f9fc",
   "metadata": {},
   "source": [
    "#### 2. Take a data set from the above data frame which you have prepared and plot the pie chart. (Take help of Pandas)"
   ]
  },
  {
   "cell_type": "code",
   "execution_count": 6,
   "id": "1c8717c9",
   "metadata": {},
   "outputs": [
    {
     "data": {
      "image/png": "[encoded data removed]",
      "text/plain": [
       "<Figure size 288x288 with 1 Axes>"
      ]
     },
     "metadata": {},
     "output_type": "display_data"
    }
   ],
   "source": [
    "fig=plt.figure(figsize=(4, 4))\n",
    "plt.pie(y,labels=x)\n",
    "plt.show()"
   ]
  },
  {
   "cell_type": "markdown",
   "id": "340ddc14",
   "metadata": {},
   "source": []
  },
  {
   "cell_type": "markdown",
   "id": "13345e31",
   "metadata": {},
   "source": [
    "#### 3. Take a csv file with name, employee id and salary. Read the datas of salary and plot the barChart with employee name on the x axis and employee salary on the y-axis. Just take 5 records in the csv files."
   ]
  },
  {
   "cell_type": "code",
   "execution_count": 4,
   "id": "10455db5",
   "metadata": {},
   "outputs": [
    {
     "name": "stdout",
     "output_type": "stream",
     "text": [
      "   Employee_ID       Name  Salary\n",
      "0         1064     Aniket   97000\n",
      "1         1066       Dona   84000\n",
      "2         1067     Monish   90000\n",
      "3         1068     Saikat  120000\n",
      "4         1069  Rudraneel   75000\n"
     ]
    },
    {
     "data": {
      "image/png": "[encoded data removed]",
      "text/plain": [
       "<Figure size 640x480 with 1 Axes>"
      ]
     },
     "metadata": {},
     "output_type": "display_data"
    }
   ],
   "source": [
    "df = pd.read_csv(\"F:/BTech/ADV. PYTHON LAB/dataset/salary.csv\")\n",
    "x = df['Name']\n",
    "y = df['Salary']\n",
    "print(df)\n",
    "plt.bar(x, y)\n",
    "plt.show()"
   ]
  },
  {
   "cell_type": "markdown",
   "id": "fc6c3c39",
   "metadata": {},
   "source": []
  },
  {
   "cell_type": "markdown",
   "id": "6a207255",
   "metadata": {},
   "source": []
  },
  {
   "cell_type": "markdown",
   "id": "2655f744",
   "metadata": {},
   "source": []
  },
  {
   "cell_type": "markdown",
   "id": "587f2551",
   "metadata": {},
   "source": []
  },
  {
   "cell_type": "markdown",
   "id": "61f1a9b3",
   "metadata": {},
   "source": []
  },
  {
   "cell_type": "markdown",
   "id": "ff8e22ba",
   "metadata": {},
   "source": []
  },
  {
   "cell_type": "markdown",
   "id": "f26b1e80",
   "metadata": {},
   "source": []
  },
  {
   "cell_type": "markdown",
   "id": "30fbada5",
   "metadata": {},
   "source": []
  },
  {
   "cell_type": "markdown",
   "id": "849f66a8",
   "metadata": {},
   "source": []
  },
  {
   "cell_type": "markdown",
   "id": "41b94093",
   "metadata": {},
   "source": []
  },
  {
   "cell_type": "markdown",
   "id": "637fa604",
   "metadata": {},
   "source": []
  },
  {
   "cell_type": "markdown",
   "id": "201e617a",
   "metadata": {},
   "source": []
  },
  {
   "cell_type": "markdown",
   "id": "fc6afc92",
   "metadata": {},
   "source": []
  },
  {
   "cell_type": "markdown",
   "id": "07ad4fea",
   "metadata": {},
   "source": []
  },
  {
   "cell_type": "markdown",
   "id": "3c3cdaf9",
   "metadata": {},
   "source": []
  },
  {
   "cell_type": "markdown",
   "id": "8341c0b4",
   "metadata": {},
   "source": []
  },
  {
   "cell_type": "markdown",
   "id": "60b65a8c",
   "metadata": {},
   "source": []
  },
  {
   "cell_type": "markdown",
   "id": "9e63e2ea",
   "metadata": {},
   "source": []
  },
  {
   "cell_type": "markdown",
   "id": "82d25147",
   "metadata": {},
   "source": []
  },
  {
   "cell_type": "markdown",
   "id": "5007f06e",
   "metadata": {},
   "source": []
  },
  {
   "cell_type": "markdown",
   "id": "a1dc3702",
   "metadata": {},
   "source": []
  },
  {
   "cell_type": "markdown",
   "id": "f21d2571",
   "metadata": {},
   "source": []
  },
  {
   "cell_type": "markdown",
   "id": "28dd19a0",
   "metadata": {},
   "source": []
  },
  {
   "cell_type": "markdown",
   "id": "af9c48ed",
   "metadata": {},
   "source": [
    "#### 4. Take the dirtydata.csv as an input and plot the box-plot for the column duration and find out How many outliers are there?"
   ]
  },
  {
   "cell_type": "code",
   "execution_count": 5,
   "id": "d060675c",
   "metadata": {},
   "outputs": [
    {
     "data": {
      "image/png": "[encoded data removed]",
      "text/plain": [
       "<Figure size 640x480 with 1 Axes>"
      ]
     },
     "metadata": {},
     "output_type": "display_data"
    },
    {
     "name": "stdout",
     "output_type": "stream",
     "text": [
      "There are three outliers\n"
     ]
    }
   ],
   "source": [
    "df = pd.read_csv(\"F:/BTech/ADV. PYTHON LAB/dataset/dirtydata.csv\")\n",
    "x = df[['Duration']].plot(kind='box', title='Box-plot')\n",
    "plt.show()\n",
    "print(\"There are three outliers\")"
   ]
  },
  {
   "cell_type": "markdown",
   "id": "bc54b978",
   "metadata": {},
   "source": [
    "#### 5. What do you mean by multiple boxplots? Take a data set in a data frame and draw the multiple boxplots. Make a csv file with multiple parameters and then plot multiple box plots for each parameter."
   ]
  },
  {
   "cell_type": "code",
   "execution_count": 6,
   "id": "3a74f182",
   "metadata": {},
   "outputs": [
    {
     "data": {
      "image/png": "[encoded data removed]",
      "text/plain": [
       "<Figure size 640x480 with 1 Axes>"
      ]
     },
     "metadata": {},
     "output_type": "display_data"
    }
   ],
   "source": [
    "df = pd.read_csv(\"F:/BTech/ADV. PYTHON LAB/dataset/production.csv\")\n",
    "x = df[['Car','Bike']].plot(kind='box',title='Boxplot')\n",
    "plt.show()"
   ]
  }
 ],
 "metadata": {
  "kernelspec": {
   "display_name": "Python 3",
   "language": "python",
   "name": "python3"
  },
  "language_info": {
   "codemirror_mode": {
    "name": "ipython",
    "version": 3
   },
   "file_extension": ".py",
   "mimetype": "text/x-python",
   "name": "python",
   "nbconvert_exporter": "python",
   "pygments_lexer": "ipython3",
   "version": "3.8.8"
  }
 },
 "nbformat": 4,
 "nbformat_minor": 5
}
