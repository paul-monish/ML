{
 "cells": [
  {
   "cell_type": "markdown",
   "id": "93bc15d5",
   "metadata": {},
   "source": [
    "## Assignment on Decision Tree"
   ]
  },
  {
   "cell_type": "code",
   "execution_count": 1,
   "id": "e1f7ab2b",
   "metadata": {},
   "outputs": [],
   "source": [
    "import matplotlib.pyplot as plt\n",
    "import pandas as pd\n",
    "from sklearn.model_selection import train_test_split\n",
    "from sklearn.preprocessing import StandardScaler\n",
    "from sklearn.tree import DecisionTreeClassifier\n",
    "from sklearn.metrics import confusion_matrix, accuracy_score"
   ]
  },
  {
   "cell_type": "markdown",
   "id": "adda29fe",
   "metadata": {},
   "source": [
    "### 1. Take fruits.csv and perform classification based on Decision tree. What is the success rate?"
   ]
  },
  {
   "cell_type": "code",
   "execution_count": 2,
   "id": "ed0e91b6",
   "metadata": {},
   "outputs": [
    {
     "name": "stdout",
     "output_type": "stream",
     "text": [
      "Confusion Matrx:\n",
      " [[2 0]\n",
      " [0 3]]\n",
      "Accuracy (%) =  100.0\n"
     ]
    }
   ],
   "source": [
    "df = pd.read_csv(\"F:/BTech/ADV. PYTHON LAB/dataset/fruits.csv\",index_col=0)\n",
    "x = df.iloc[:,[0,1]].values\n",
    "y = df.iloc[:,2].values\n",
    "x_train, x_test, y_train, y_test = train_test_split(x,y,test_size=0.25,random_state=0)\n",
    "sts = StandardScaler()\n",
    "x_train = sts.fit_transform(x_train)\n",
    "x_test = sts.transform(x_test)\n",
    "clf = DecisionTreeClassifier(criterion='entropy',random_state=0)\n",
    "clf.fit(x_train,y_train)\n",
    "y_pred = clf.predict(x_test)\n",
    "conf_mat = confusion_matrix(y_test,y_pred)\n",
    "print(\"Confusion Matrx:\\n\",conf_mat)\n",
    "print(\"Accuracy (%) = \",(accuracy_score(y_test,y_pred)) * 100)"
   ]
  }
 ],
 "metadata": {
  "kernelspec": {
   "display_name": "Python 3 (ipykernel)",
   "language": "python",
   "name": "python3"
  },
  "language_info": {
   "codemirror_mode": {
    "name": "ipython",
    "version": 3
   },
   "file_extension": ".py",
   "mimetype": "text/x-python",
   "name": "python",
   "nbconvert_exporter": "python",
   "pygments_lexer": "ipython3",
   "version": "3.9.15"
  }
 },
 "nbformat": 4,
 "nbformat_minor": 5
}
