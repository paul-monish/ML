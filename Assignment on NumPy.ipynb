{
 "cells": [
  {
   "cell_type": "markdown",
   "id": "82c2e87d",
   "metadata": {},
   "source": [
    "### 1. Take a 3X3 matrix randomly and another matrix by assigning elements. Now add the 2 matrix and store it in a separate matrix C."
   ]
  },
  {
   "cell_type": "code",
   "execution_count": 5,
   "id": "9f01c862",
   "metadata": {},
   "outputs": [],
   "source": [
    "import numpy as np\n",
    "import matplotlib.pyplot as plt"
   ]
  },
  {
   "cell_type": "code",
   "execution_count": 6,
   "id": "35a07666",
   "metadata": {
    "scrolled": true
   },
   "outputs": [
    {
     "data": {
      "text/plain": [
       "array([[0.70699358, 1.28837518, 2.60319717],\n",
       "       [3.68542358, 4.03754282, 5.10798098],\n",
       "       [6.02070916, 7.6386922 , 8.19999563]])"
      ]
     },
     "execution_count": 6,
     "metadata": {},
     "output_type": "execute_result"
    }
   ],
   "source": [
    "a=np.random.rand(3,3)\n",
    "b=np.arange(9).reshape(3,3)\n",
    "c=a+b\n",
    "c"
   ]
  },
  {
   "cell_type": "markdown",
   "id": "1f1eb3d4",
   "metadata": {},
   "source": [
    "### 2. Take 3X3 matrixes add it with another 3x3 of all 1 matrix and convert that to a complex data type matrix."
   ]
  },
  {
   "cell_type": "code",
   "execution_count": 7,
   "id": "1a0de3d4",
   "metadata": {},
   "outputs": [
    {
     "name": "stdout",
     "output_type": "stream",
     "text": [
      "<class 'numpy.ndarray'>\n"
     ]
    },
    {
     "data": {
      "text/plain": [
       "array([[1.+0.j, 2.+0.j, 3.+0.j],\n",
       "       [4.+0.j, 5.+0.j, 6.+0.j],\n",
       "       [7.+0.j, 8.+0.j, 9.+0.j]])"
      ]
     },
     "execution_count": 7,
     "metadata": {},
     "output_type": "execute_result"
    }
   ],
   "source": [
    "a=np.ones((3,3))\n",
    "b=b=np.arange(9).reshape(3,3)\n",
    "c=np.add(a,b)\n",
    "print(type(c))\n",
    "np.array(c,dtype=complex)"
   ]
  },
  {
   "cell_type": "markdown",
   "id": "40ba6040",
   "metadata": {},
   "source": [
    "### 3. Take a 3X3 matrix and multiply element wise with 3X 3 another matrix."
   ]
  },
  {
   "cell_type": "code",
   "execution_count": 8,
   "id": "094b6089",
   "metadata": {},
   "outputs": [
    {
     "data": {
      "text/plain": [
       "array([[0, 1, 2],\n",
       "       [3, 4, 5],\n",
       "       [6, 7, 8]])"
      ]
     },
     "execution_count": 8,
     "metadata": {},
     "output_type": "execute_result"
    }
   ],
   "source": [
    "a=np.ones((3,3),dtype=int)\n",
    "b=b=np.arange(9).reshape(3,3)\n",
    "c=np.multiply(a,b)#a*b\n",
    "c"
   ]
  },
  {
   "cell_type": "markdown",
   "id": "5e3201c3",
   "metadata": {},
   "source": [
    "### 4. Multiply 2 3X3 matrixes."
   ]
  },
  {
   "cell_type": "code",
   "execution_count": 9,
   "id": "60fe1c15",
   "metadata": {},
   "outputs": [
    {
     "data": {
      "text/plain": [
       "array([[ 9, 12, 15],\n",
       "       [ 9, 12, 15],\n",
       "       [ 9, 12, 15]])"
      ]
     },
     "execution_count": 9,
     "metadata": {},
     "output_type": "execute_result"
    }
   ],
   "source": [
    "a=np.ones((3,3),dtype=int)\n",
    "b=b=np.arange(9).reshape(3,3)\n",
    "c=np.dot(a,b)#a@b\n",
    "c"
   ]
  },
  {
   "cell_type": "markdown",
   "id": "3ccb632d",
   "metadata": {},
   "source": [
    "### 5. Randomly generate 10 numbers in between 1 to 10 and convert that to a 5X2 matrix. Take a floating-point matrix and perform the addition. a= floating point matrix and b is an integer matrix of same dimension. Why a+=b is not equal to b+=a.Explain briefly. How can we resolve this problem?"
   ]
  },
  {
   "cell_type": "code",
   "execution_count": 10,
   "id": "1e4345cb",
   "metadata": {},
   "outputs": [
    {
     "ename": "ValueError",
     "evalue": "invalid number of arguments",
     "output_type": "error",
     "traceback": [
      "\u001b[1;31m---------------------------------------------------------------------------\u001b[0m",
      "\u001b[1;31mValueError\u001b[0m                                Traceback (most recent call last)",
      "\u001b[1;32m<ipython-input-10-10cf092e3cf6>\u001b[0m in \u001b[0;36m<module>\u001b[1;34m\u001b[0m\n\u001b[0;32m     11\u001b[0m \u001b[1;31m#b=np.add(a,b)\u001b[0m\u001b[1;33m\u001b[0m\u001b[1;33m\u001b[0m\u001b[1;33m\u001b[0m\u001b[0m\n\u001b[0;32m     12\u001b[0m \u001b[0mb\u001b[0m\u001b[1;33m\u001b[0m\u001b[1;33m\u001b[0m\u001b[0m\n\u001b[1;32m---> 13\u001b[1;33m \u001b[0mnp\u001b[0m\u001b[1;33m.\u001b[0m\u001b[0madd\u001b[0m\u001b[1;33m(\u001b[0m\u001b[1;33m)\u001b[0m\u001b[1;33m\u001b[0m\u001b[1;33m\u001b[0m\u001b[0m\n\u001b[0m\u001b[0;32m     14\u001b[0m \u001b[0mb\u001b[0m\u001b[1;33m+=\u001b[0m\u001b[0ma\u001b[0m\u001b[1;33m\u001b[0m\u001b[1;33m\u001b[0m\u001b[0m\n\u001b[0;32m     15\u001b[0m \u001b[0mb\u001b[0m\u001b[1;33m\u001b[0m\u001b[1;33m\u001b[0m\u001b[0m\n",
      "\u001b[1;31mValueError\u001b[0m: invalid number of arguments"
     ]
    }
   ],
   "source": [
    "a=np.random.rand(1,10).reshape(5,2)\n",
    "b=np.ones((5,2),dtype=int)\n",
    "#a=np.add(a,b)\n",
    "#a\n",
    "#b+=a\n",
    "#b=np.add(b,a)\n",
    "b\n",
    "#b+=a\n",
    "# c=np.add(a,b)\n",
    "#a=np.add(a,b)\n",
    "#b=np.add(a,b)\n",
    "b\n",
    "np.add()\n",
    "b+=a\n",
    "b"
   ]
  },
  {
   "cell_type": "code",
   "execution_count": 11,
   "id": "1af9a411",
   "metadata": {},
   "outputs": [
    {
     "data": {
      "text/plain": [
       "array([[0.21445139, 0.72957744],\n",
       "       [0.67569718, 0.42253435],\n",
       "       [0.68388279, 0.80711078],\n",
       "       [0.83968415, 0.17090415],\n",
       "       [0.62212785, 0.39204129]])"
      ]
     },
     "execution_count": 11,
     "metadata": {},
     "output_type": "execute_result"
    }
   ],
   "source": [
    "a"
   ]
  },
  {
   "cell_type": "markdown",
   "id": "57b5829f",
   "metadata": {},
   "source": [
    "### 6. Take x values and plot the cos(x) and tan(x) in a graph using matplotlib.\n"
   ]
  },
  {
   "cell_type": "code",
   "execution_count": 12,
   "id": "02c83956",
   "metadata": {},
   "outputs": [],
   "source": [
    "x=np.linspace(-1,1,100)\n",
    "# print(np.cos(x))"
   ]
  },
  {
   "cell_type": "code",
   "execution_count": 13,
   "id": "8b0ccf64",
   "metadata": {},
   "outputs": [
    {
     "data": {
      "text/plain": [
       "Text(0.5, 1.0, 'tan(x)')"
      ]
     },
     "execution_count": 13,
     "metadata": {},
     "output_type": "execute_result"
    },
    {
     "data": {
      "image/png": "[encoded data removed]",
      "text/plain": [
       "<Figure size 432x288 with 1 Axes>"
      ]
     },
     "metadata": {
      "needs_background": "light"
     },
     "output_type": "display_data"
    }
   ],
   "source": [
    "plt.plot(np.cos(x))\n",
    "plt.title(\"cos(X)\")\n",
    "plt.plot(np.tan(x))\n",
    "plt.title(\"tan(x)\")"
   ]
  },
  {
   "cell_type": "markdown",
   "id": "913cfdbf",
   "metadata": {},
   "source": [
    "### 7. Take a multidimensional array (3, 3, 3) and print the last column.\n"
   ]
  },
  {
   "cell_type": "code",
   "execution_count": 14,
   "id": "9c8890b9",
   "metadata": {},
   "outputs": [
    {
     "data": {
      "text/plain": [
       "array([[ 2,  5,  8],\n",
       "       [11, 14, 17],\n",
       "       [20, 23, 26]])"
      ]
     },
     "execution_count": 14,
     "metadata": {},
     "output_type": "execute_result"
    }
   ],
   "source": [
    "arr=np.arange(27).reshape(3,3,3)\n",
    "last_column = arr[:, :, -1]\n",
    "last_column"
   ]
  },
  {
   "cell_type": "markdown",
   "id": "651394b5",
   "metadata": {},
   "source": [
    "### 8. Take a function f(x) =x^3 + 5*y +4*z and determine the values and store them in a (3,3,3) matrix."
   ]
  },
  {
   "cell_type": "code",
   "execution_count": 17,
   "id": "80fa9cc5",
   "metadata": {},
   "outputs": [],
   "source": [
    "def fx(x,y,z):\n",
    "    return x**3+5*y+4*z"
   ]
  },
  {
   "cell_type": "code",
   "execution_count": 20,
   "id": "ff80fc84",
   "metadata": {},
   "outputs": [
    {
     "data": {
      "text/plain": [
       "array([[[ 0,  4,  8],\n",
       "        [ 5,  9, 13],\n",
       "        [10, 14, 18]],\n",
       "\n",
       "       [[ 1,  5,  9],\n",
       "        [ 6, 10, 14],\n",
       "        [11, 15, 19]],\n",
       "\n",
       "       [[ 8, 12, 16],\n",
       "        [13, 17, 21],\n",
       "        [18, 22, 26]]])"
      ]
     },
     "execution_count": 20,
     "metadata": {},
     "output_type": "execute_result"
    }
   ],
   "source": [
    "# np.array([fx(x,x+1,x+2) for x in range(0,27)]).reshape(3,3,3)\n",
    "np.fromfunction(fx,(3,3,3),dtype=int)"
   ]
  },
  {
   "cell_type": "markdown",
   "id": "01135662",
   "metadata": {},
   "source": [
    "### 9. Using axis add the column values of a 3X3 matrix and then add it with the maximum values of rows taken in a 3X 3 matrix"
   ]
  },
  {
   "cell_type": "code",
   "execution_count": 178,
   "id": "f4aad582",
   "metadata": {},
   "outputs": [
    {
     "data": {
      "text/plain": [
       "array([[0, 1, 2],\n",
       "       [3, 4, 5],\n",
       "       [6, 7, 8]])"
      ]
     },
     "execution_count": 178,
     "metadata": {},
     "output_type": "execute_result"
    }
   ],
   "source": [
    "x=np.arange(9).reshape(3,3)\n",
    "x"
   ]
  },
  {
   "cell_type": "code",
   "execution_count": 181,
   "id": "b48c344b",
   "metadata": {},
   "outputs": [
    {
     "data": {
      "text/plain": [
       "array([11, 17, 23])"
      ]
     },
     "execution_count": 181,
     "metadata": {},
     "output_type": "execute_result"
    }
   ],
   "source": [
    "s=x.sum(axis=0)\n",
    "s\n",
    "m=x.max(axis=1)\n",
    "i=s+m\n",
    "i"
   ]
  },
  {
   "cell_type": "markdown",
   "id": "9b325693",
   "metadata": {},
   "source": [
    "### 10. f(x) = x^3 + 5y and store it in (3,3) matrix."
   ]
  },
  {
   "cell_type": "code",
   "execution_count": 21,
   "id": "7ced4381",
   "metadata": {},
   "outputs": [],
   "source": [
    "def fx(x,y):\n",
    "    return x**3+5*y"
   ]
  },
  {
   "cell_type": "code",
   "execution_count": 22,
   "id": "db347660",
   "metadata": {},
   "outputs": [
    {
     "data": {
      "text/plain": [
       "array([[ 0,  5, 10, 15],\n",
       "       [ 1,  6, 11, 16],\n",
       "       [ 8, 13, 18, 23],\n",
       "       [27, 32, 37, 42],\n",
       "       [64, 69, 74, 79]])"
      ]
     },
     "execution_count": 22,
     "metadata": {},
     "output_type": "execute_result"
    }
   ],
   "source": [
    "# np.array([fx(x,x+1) for x in range(0,9)]).reshape(3,3)\n",
    "np.fromfunction(fx,(5,4),dtype=int)"
   ]
  },
  {
   "cell_type": "markdown",
   "id": "f9079039",
   "metadata": {},
   "source": [
    "### 11. Take a function array &#39;a&#39; cube with a range of 20 and find out what will be the value of a [[7,8], [9,11]]. If we take values a [[7, 8], [9, 21]] will it take if not why?"
   ]
  },
  {
   "cell_type": "code",
   "execution_count": 23,
   "id": "ac02e221",
   "metadata": {},
   "outputs": [
    {
     "data": {
      "text/plain": [
       "array([[ 343,  512],\n",
       "       [ 729, 1331]], dtype=int32)"
      ]
     },
     "execution_count": 23,
     "metadata": {},
     "output_type": "execute_result"
    }
   ],
   "source": [
    "a=np.arange(20)**3\n",
    "a[np.array([[7,8], [9,11]])]"
   ]
  },
  {
   "cell_type": "code",
   "execution_count": 25,
   "id": "3861ff36",
   "metadata": {},
   "outputs": [
    {
     "ename": "IndexError",
     "evalue": "index 21 is out of bounds for axis 0 with size 20",
     "output_type": "error",
     "traceback": [
      "\u001b[1;31m---------------------------------------------------------------------------\u001b[0m",
      "\u001b[1;31mIndexError\u001b[0m                                Traceback (most recent call last)",
      "\u001b[1;32m<ipython-input-25-295475516b11>\u001b[0m in \u001b[0;36m<module>\u001b[1;34m\u001b[0m\n\u001b[1;32m----> 1\u001b[1;33m \u001b[0ma\u001b[0m\u001b[1;33m[\u001b[0m\u001b[0mnp\u001b[0m\u001b[1;33m.\u001b[0m\u001b[0marray\u001b[0m\u001b[1;33m(\u001b[0m\u001b[1;33m[\u001b[0m\u001b[1;33m[\u001b[0m\u001b[1;36m7\u001b[0m\u001b[1;33m,\u001b[0m\u001b[1;36m8\u001b[0m\u001b[1;33m]\u001b[0m\u001b[1;33m,\u001b[0m \u001b[1;33m[\u001b[0m\u001b[1;36m9\u001b[0m\u001b[1;33m,\u001b[0m\u001b[1;36m21\u001b[0m\u001b[1;33m]\u001b[0m\u001b[1;33m]\u001b[0m\u001b[1;33m)\u001b[0m\u001b[1;33m]\u001b[0m\u001b[1;33m\u001b[0m\u001b[1;33m\u001b[0m\u001b[0m\n\u001b[0m",
      "\u001b[1;31mIndexError\u001b[0m: index 21 is out of bounds for axis 0 with size 20"
     ]
    }
   ],
   "source": [
    "a[np.array([[7,8], [9,21]])]"
   ]
  },
  {
   "cell_type": "markdown",
   "id": "9d6e4619",
   "metadata": {},
   "source": [
    "### 12. Take a random number from 0 to 19 and make a 4X5 matrix then find the values of (i) 3rd row and 4th column only and (ii) only 4th column values.\n"
   ]
  },
  {
   "cell_type": "code",
   "execution_count": 59,
   "id": "ff10cbd0",
   "metadata": {},
   "outputs": [
    {
     "data": {
      "text/plain": [
       "array([[ 4, 12, 11,  6, 18],\n",
       "       [16,  4,  8, 15,  7],\n",
       "       [10,  1,  0, 14, 14],\n",
       "       [15,  9,  9, 17, 13]])"
      ]
     },
     "execution_count": 59,
     "metadata": {},
     "output_type": "execute_result"
    }
   ],
   "source": [
    "x=np.random.randint(0,19,(4,5))\n",
    "x"
   ]
  },
  {
   "cell_type": "code",
   "execution_count": 30,
   "id": "0cff059a",
   "metadata": {},
   "outputs": [
    {
     "name": "stdout",
     "output_type": "stream",
     "text": [
      "4\n",
      "[12 16  7 13]\n"
     ]
    }
   ],
   "source": [
    "r3=x[-2,-1]\n",
    "# c4=x[,]\n",
    "print(r3)\n",
    "print(x[:,-2])"
   ]
  },
  {
   "cell_type": "markdown",
   "id": "dd88656f",
   "metadata": {},
   "source": [
    "### 13. Take a matrix of 5X4 randomly and create 2 3x3 values i and j respectively and take a tuple named m with i and j as an argument and generate the values of the matrix for the specified tuple. i&lt;=4 and j&lt;=3."
   ]
  },
  {
   "cell_type": "code",
   "execution_count": 60,
   "id": "5f7fbfa4",
   "metadata": {
    "scrolled": true
   },
   "outputs": [
    {
     "data": {
      "text/plain": [
       "array([[0.98841788, 0.33971308, 0.74705659],\n",
       "       [0.74705659, 0.3244197 , 0.34766905],\n",
       "       [0.34766905, 0.74705659, 0.3244197 ]])"
      ]
     },
     "execution_count": 60,
     "metadata": {},
     "output_type": "execute_result"
    }
   ],
   "source": [
    "i=np.array([[2,0,1],[1,2,0],[0,1,2]])\n",
    "j=np.array([[1,2,0],[0,2,1],[1,0,2]])\n",
    "arr1=np.random.rand(20).reshape(4,5)\n",
    "m=(i,j)\n",
    "arr1[m]"
   ]
  },
  {
   "cell_type": "markdown",
   "id": "bee4f6ed",
   "metadata": {},
   "source": [
    "### 14. Take a matrix of 3x3 and find out the Eigen vector and Eigen values of that matrix."
   ]
  },
  {
   "cell_type": "code",
   "execution_count": 37,
   "id": "61b40024",
   "metadata": {},
   "outputs": [
    {
     "name": "stdout",
     "output_type": "stream",
     "text": [
      "Eigen vector:\n",
      " [ 1.33484692e+01 -1.34846923e+00 -1.26963291e-15]\n",
      "Eigen value:\n",
      " [[ 0.16476382  0.79969966  0.40824829]\n",
      " [ 0.50577448  0.10420579 -0.81649658]\n",
      " [ 0.84678513 -0.59128809  0.40824829]]\n"
     ]
    }
   ],
   "source": [
    "r=np.arange(9).reshape(3,3)\n",
    "w,v=np.linalg.eig(r)\n",
    "print(\"Eigen vector:\\n\",w)\n",
    "print(\"Eigen value:\\n\",v)"
   ]
  },
  {
   "cell_type": "markdown",
   "id": "e9be19af",
   "metadata": {},
   "source": [
    "### 15. Take a matrix and by taking the i, j or x, y values implement the hstack and vstack methods."
   ]
  },
  {
   "cell_type": "code",
   "execution_count": 55,
   "id": "cda7765d",
   "metadata": {},
   "outputs": [
    {
     "name": "stdout",
     "output_type": "stream",
     "text": [
      "Using vstack():\n",
      " [[0 2 4 6 8]\n",
      " [0 1 2 3 4]]\n",
      "Using hstack():\n",
      " [0 2 4 6 8 0 1 2 3 4]\n"
     ]
    }
   ],
   "source": [
    "x=np.arange(0,10,2)\n",
    "y=np.arange(5)\n",
    "print(\"Using vstack():\\n\",np.vstack([x,y]))\n",
    "print(\"Using hstack():\\n\",np.hstack([x,y]))"
   ]
  }
 ],
 "metadata": {
  "kernelspec": {
   "display_name": "Python 3",
   "language": "python",
   "name": "python3"
  },
  "language_info": {
   "codemirror_mode": {
    "name": "ipython",
    "version": 3
   },
   "file_extension": ".py",
   "mimetype": "text/x-python",
   "name": "python",
   "nbconvert_exporter": "python",
   "pygments_lexer": "ipython3",
   "version": "3.8.8"
  }
 },
 "nbformat": 4,
 "nbformat_minor": 5
}
