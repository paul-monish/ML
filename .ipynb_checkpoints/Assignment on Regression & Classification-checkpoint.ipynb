{
 "cells": [
  {
   "cell_type": "code",
   "execution_count": 1,
   "id": "d77b7fb2",
   "metadata": {},
   "outputs": [],
   "source": [
    "import numpy as np\n",
    "import pandas as pd\n",
    "from sklearn.datasets import make_regression\n",
    "from sklearn.model_selection import train_test_split\n",
    "from sklearn.linear_model import LinearRegression\n",
    "from sklearn.linear_model import LogisticRegression\n",
    "from sklearn.preprocessing import PolynomialFeatures\n",
    "from sklearn import metrics\n",
    "from matplotlib import pyplot as plt"
   ]
  },
  {
   "cell_type": "markdown",
   "id": "9b6763c6",
   "metadata": {},
   "source": [
    "### 1. Go through position_salaries.csv file and show that it is not following linear regression and can be best modelled with polynomial regression. It consists of only two fields’ position and salary."
   ]
  },
  {
   "cell_type": "code",
   "execution_count": 2,
   "id": "0af132cb",
   "metadata": {
    "scrolled": true
   },
   "outputs": [
    {
     "data": {
      "image/png": "[encoded data removed]",
      "text/plain": [
       "<Figure size 432x288 with 1 Axes>"
      ]
     },
     "metadata": {
      "needs_background": "light"
     },
     "output_type": "display_data"
    },
    {
     "name": "stdout",
     "output_type": "stream",
     "text": [
      "Coefficient of Determination: 0.6690412331929895\n"
     ]
    }
   ],
   "source": [
    "df1 = pd.read_csv(\"F:\\BTech\\ADV. PYTHON LAB\\dataset\\position_salaries.csv\")\n",
    "X_train,X_test, Y_train, Y_test = train_test_split(df1[['Level']],df1['Salary'],test_size=1/3,random_state=0)\n",
    "lin_reg = LinearRegression()\n",
    "lin_reg.fit(df1[['Level']],df1['Salary'])\n",
    "plt.scatter(df1[['Level']],df1['Salary'],color='red')\n",
    "plt.plot(df1[['Level']], lin_reg.predict(df1[['Level']]), color='blue')\n",
    "plt.title('Linear Regression')\n",
    "plt.xlabel('Position level')\n",
    "plt.ylabel('Salary')\n",
    "plt.show()\n",
    "r_sq = lin_reg.score(df1[['Level']],df1['Salary'])\n",
    "print('Coefficient of Determination:', r_sq)"
   ]
  },
  {
   "cell_type": "markdown",
   "id": "6f2c13a9",
   "metadata": {},
   "source": [
    "### 2. Go through “Student-Pass-Fail-Data.csv\" where self -study daily and tuition monthly are the two influential factors where 1 is pass and 0 is for fail. Use logistic regression and now reduce the number of rows to half and see the success rate has it influenced by the data."
   ]
  },
  {
   "cell_type": "code",
   "execution_count": 3,
   "id": "37c02c34",
   "metadata": {},
   "outputs": [
    {
     "name": "stdout",
     "output_type": "stream",
     "text": [
      "Accuracy (%) =  96.8\n"
     ]
    },
    {
     "data": {
      "text/plain": [
       "array([[120,   8],\n",
       "       [  0, 122]], dtype=int64)"
      ]
     },
     "execution_count": 3,
     "metadata": {},
     "output_type": "execute_result"
    }
   ],
   "source": [
    "df2 = pd.read_csv(\"F:\\BTech\\ADV. PYTHON LAB\\dataset\\Student-Pass-Fail-Data.csv\")\n",
    "df21 = df2\n",
    "X = df21.drop('Pass_Or_Fail',axis = 1)\n",
    "Y = df21['Pass_Or_Fail']\n",
    "X_train, X_test, Y_train, Y_test = train_test_split(X, Y, random_state=4)\n",
    "logistic_regression = LogisticRegression()\n",
    "logistic_regression.fit(X_train,Y_train)\n",
    "Y_pred = logistic_regression.predict(X_test)\n",
    "accuracy = metrics.accuracy_score(Y_test,Y_pred)\n",
    "accuracy_percentage = 100 * accuracy\n",
    "print(\"Accuracy (%) = \",accuracy_percentage)\n",
    "metrics.confusion_matrix(Y_test,Y_pred)"
   ]
  },
  {
   "cell_type": "code",
   "execution_count": 4,
   "id": "533d8c89",
   "metadata": {},
   "outputs": [
    {
     "name": "stdout",
     "output_type": "stream",
     "text": [
      "Accuracy (%) =  98.4\n"
     ]
    },
    {
     "data": {
      "text/plain": [
       "array([[62,  2],\n",
       "       [ 0, 61]], dtype=int64)"
      ]
     },
     "execution_count": 4,
     "metadata": {},
     "output_type": "execute_result"
    }
   ],
   "source": [
    "dfH = pd.read_csv(\"F:\\BTech\\ADV. PYTHON LAB\\dataset\\Student-Pass-Fail-Data.csv\")\n",
    "dfH1 = dfH.head(500)\n",
    "X = dfH1.drop('Pass_Or_Fail',axis = 1)\n",
    "Y = dfH1['Pass_Or_Fail']\n",
    "X_train, X_test, Y_train, Y_test = train_test_split(X, Y, random_state=4)\n",
    "logistic_regression = LogisticRegression()\n",
    "logistic_regression.fit(X_train,Y_train)\n",
    "Y_pred = logistic_regression.predict(X_test)\n",
    "accuracy = metrics.accuracy_score(Y_test,Y_pred)\n",
    "accuracy_percentage = 100 * accuracy\n",
    "print(\"Accuracy (%) = \",accuracy_percentage)\n",
    "metrics.confusion_matrix(Y_test,Y_pred)"
   ]
  },
  {
   "cell_type": "markdown",
   "id": "8b551b18",
   "metadata": {},
   "source": [
    "### 4. From sklearn.datasets import make regression and fit the data and perform the linear regression. Use scatter plot."
   ]
  },
  {
   "cell_type": "code",
   "execution_count": 5,
   "id": "6818cb46",
   "metadata": {},
   "outputs": [
    {
     "data": {
      "text/plain": [
       "<matplotlib.collections.PathCollection at 0x28a8fe5b8e0>"
      ]
     },
     "execution_count": 5,
     "metadata": {},
     "output_type": "execute_result"
    },
    {
     "data": {
      "image/png": "[encoded data removed]",
      "text/plain": [
       "<Figure size 432x288 with 1 Axes>"
      ]
     },
     "metadata": {
      "needs_background": "light"
     },
     "output_type": "display_data"
    }
   ],
   "source": [
    "X,Y = make_regression(n_samples=150, n_features=1, noise=0.2)\n",
    "X_train,X_test,Y_train,Y_test = train_test_split(X,Y,test_size=0.3,random_state=0)\n",
    "model = LinearRegression()\n",
    "model.fit(X_train,Y_train)\n",
    "Y_pred = model.predict(X_test)\n",
    "plt.xlabel('X_val')\n",
    "plt.ylabel('Y_val')\n",
    "plt.title('Real vs Predicted values comparison')\n",
    "plt.scatter(X_test,Y_test)\n",
    "plt.scatter(X_test,Y_pred)"
   ]
  },
  {
   "cell_type": "markdown",
   "id": "7029e7e8",
   "metadata": {},
   "source": [
    "### 5. Take Y = [ 5, 4, 3, 6,7, 8,9, 5,4,,3,1] , X = [ yoe, level, leow, city] such that yoe and leow isdirectly proportional to the data and level is moderately dependent and calculate R2 and equation slope and intercept for yoe, level and leow which is the best parameter."
   ]
  },
  {
   "cell_type": "code",
   "execution_count": 23,
   "id": "03be1fce",
   "metadata": {},
   "outputs": [
    {
     "name": "stdout",
     "output_type": "stream",
     "text": [
      "\n",
      "X = [yoe, level, leow, city]:\n",
      "R-squared:  0.5004017672661639\n",
      "\n",
      "X = [yoe]:\n",
      "R-squared:  0.9306206088992974\n",
      "Intercept:  0.8196721311475397\n",
      "Slope:  [1.53278689]\n",
      "Equation:  0.8197 + 1.5328 * X \n",
      "\n",
      "X = [level]:\n",
      "R-squared:  0.9380580357142857\n",
      "Intercept:  2.4375000000000004\n",
      "Slope:  [1.28125]\n",
      "Equation:  2.4375 + 1.2812 * X \n",
      "\n",
      "X = [leow]:\n",
      "R-squared:  0.9525319829424307\n",
      "Intercept:  1.171641791044776\n",
      "Slope:  [0.9358209]\n",
      "Equation:  1.1716 + 0.9358 * X \n"
     ]
    }
   ],
   "source": [
    "yoe = np.array([3,2,1,3,4,5,5,3,2,1,1]).reshape(-1, 1)\n",
    "level = np.array([2,1,0,3,4,4,5,2,1,0,0]).reshape(-1, 1)\n",
    "leow = np.array([5,3,2,5,5,8,8,4,3,2,0]).reshape(-1, 1)\n",
    "city = np.array([1,1,2,5,4,3,6,7,4,2,3]).reshape(-1, 1)\n",
    "Y = np.array([5,4,3,6,7,8,9,5,4,3,1])\n",
    "X = np.array([yoe, level, leow, city]).reshape(11,4)\n",
    "model = LinearRegression()\n",
    "model.fit(X, Y)\n",
    "print(\"\\nX = [yoe, level, leow, city]:\")\n",
    "print('R-squared: ',model.score(X,Y))\n",
    "print(\"\\nX = [yoe]:\")\n",
    "X = yoe\n",
    "model = LinearRegression()\n",
    "model.fit(X, Y)\n",
    "print('R-squared: ',model.score(X,Y))\n",
    "print('Intercept: ', model.intercept_)\n",
    "print('Slope: ', model.coef_)\n",
    "b0 = (model.intercept_).round(4)\n",
    "b1 = (model.coef_[0]).round(4)\n",
    "print(\"Equation: \",b0,\"+\",b1,\"* X \")\n",
    "print(\"\\nX = [level]:\")\n",
    "X = level\n",
    "model = LinearRegression()\n",
    "model.fit(X, Y)\n",
    "print('R-squared: ',model.score(X,Y))\n",
    "print('Intercept: ', model.intercept_)\n",
    "print('Slope: ', model.coef_)\n",
    "b0 = (model.intercept_).round(4)\n",
    "b1 = (model.coef_[0]).round(4)\n",
    "print(\"Equation: \",b0,\"+\",b1,\"* X \")\n",
    "print(\"\\nX = [leow]:\")\n",
    "X = leow\n",
    "model = LinearRegression()\n",
    "model.fit(X, Y)\n",
    "print('R-squared: ',model.score(X,Y))\n",
    "print('Intercept: ', model.intercept_)\n",
    "print('Slope: ', model.coef_)\n",
    "b0 = (model.intercept_).round(4)\n",
    "b1 = (model.coef_[0]).round(4)\n",
    "print(\"Equation: \",b0,\"+\",b1,\"* X \")"
   ]
  },
  {
   "cell_type": "markdown",
   "id": "0575ce4e",
   "metadata": {},
   "source": [
    "### 6. Take Y = [5,4,3,6,7,8,9,5,4,3] and X = [[3,2], [2,1], [1,0],[3,3],[4,4],[5,4],[5,5],[3,2],[2,1],[1,0]]. Where x0 = yoe and x1 = level. Calculate R2 and equation slope and intercept."
   ]
  },
  {
   "cell_type": "code",
   "execution_count": 7,
   "id": "1d4f4f5f",
   "metadata": {},
   "outputs": [
    {
     "name": "stdout",
     "output_type": "stream",
     "text": [
      "R_Squared:  0.9845377604166666\n",
      "slope:  [0.47916667 0.78125   ]\n",
      "intercept:  2.291666666666665\n"
     ]
    }
   ],
   "source": [
    "X = [[3,2],[2,1],[1,0],[3,3],[4,4],[5,4],[5,5],[3,2],[2,1],[1,0]]\n",
    "Y =[5, 4, 3, 6, 7, 8, 9, 5, 4, 3]\n",
    "model = LinearRegression().fit(X, Y)\n",
    "print(\"R_Squared: \",model.score(X, Y))\n",
    "print('slope: ',model.coef_)\n",
    "print('intercept: ',model.intercept_)"
   ]
  },
  {
   "cell_type": "markdown",
   "id": "5b4e3f75",
   "metadata": {},
   "source": [
    "### 7. Take the following x = np.arange(10).reshape(-1, 1) & y = np.array([0, 0, 0, 1, 1, 1, 1, 1, 1, 1]). Design a Logistic Regression. What value of c gives you optimum result. Modify your model till you get 100% accuracy. (c=1,5,10) show the result."
   ]
  },
  {
   "cell_type": "code",
   "execution_count": 22,
   "id": "f0286bf9",
   "metadata": {},
   "outputs": [
    {
     "name": "stdout",
     "output_type": "stream",
     "text": [
      "For c = 1:  [0 0 1 1 1 1 1 1 1 1]\n",
      "Accuracy Score (%):  90.0\n",
      "For c = 5:  [0 0 0 1 1 1 1 1 1 1]\n",
      "Accuracy Score (%):  100.0\n",
      "For c = 10:  [0 0 0 1 1 1 1 1 1 1]\n",
      "Accuracy Score (%):  100.0\n"
     ]
    }
   ],
   "source": [
    "x = np.arange(10).reshape(-1, 1)\n",
    "y = np.array([0, 0, 0, 1, 1, 1, 1, 1, 1, 1])\n",
    "model = LogisticRegression(C=1,solver='liblinear',random_state=0)\n",
    "model.fit(x, y)\n",
    "print(\"For c = 1: \",model.predict(x))\n",
    "print(\"Accuracy Score (%): \",round(metrics.accuracy_score(model.predict(x), y) * 100,2))\n",
    "model = LogisticRegression(C=5,solver='liblinear',random_state=0)\n",
    "model.fit(x, y)\n",
    "print(\"For c = 5: \",model.predict(x))\n",
    "print(\"Accuracy Score (%): \",round(metrics.accuracy_score(model.predict(x), y) * 100,2))\n",
    "model = LogisticRegression(C=10,solver='liblinear',random_state=0)\n",
    "model.fit(x, y)\n",
    "print(\"For c = 10: \",model.predict(x))\n",
    "print(\"Accuracy Score (%): \",round(metrics.accuracy_score(model.predict(x), y) * 100,2))"
   ]
  }
 ],
 "metadata": {
  "kernelspec": {
   "display_name": "Python 3",
   "language": "python",
   "name": "python3"
  },
  "language_info": {
   "codemirror_mode": {
    "name": "ipython",
    "version": 3
   },
   "file_extension": ".py",
   "mimetype": "text/x-python",
   "name": "python",
   "nbconvert_exporter": "python",
   "pygments_lexer": "ipython3",
   "version": "3.8.8"
  }
 },
 "nbformat": 4,
 "nbformat_minor": 5
}
