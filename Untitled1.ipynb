{
 "cells": [
  {
   "cell_type": "code",
   "execution_count": 142,
   "id": "cd111754",
   "metadata": {},
   "outputs": [],
   "source": [
    "import math\n",
    "def isPrime(n):\n",
    "    l=[]\n",
    "    f=0\n",
    "    if n!=0 and n!=1:\n",
    "        for i in range(1,n+1):\n",
    "            if(n%i==0):\n",
    "                l.append(i)\n",
    "                f=f+1\n",
    "#         print(f)\n",
    "#         return l\n",
    "        if f>2:\n",
    "            print(\"Factors : {}\".format(l))\n",
    "            return l\n",
    "        else:\n",
    "            return []\n",
    "    else:\n",
    "        return [n]\n",
    "    \n",
    "            "
   ]
  },
  {
   "cell_type": "code",
   "execution_count": 143,
   "id": "07d7aa9a",
   "metadata": {},
   "outputs": [
    {
     "name": "stdout",
     "output_type": "stream",
     "text": [
      "Enter Number:4\n",
      "Factors : [1, 2, 4]\n",
      "The number 4 is not a prime number\n"
     ]
    }
   ],
   "source": [
    "n=int(input(\"Enter Number:\"))\n",
    "if(not isPrime(n)):\n",
    "    print('The number {} is a prime number'.format(n))\n",
    "else:\n",
    "    print(\"The number {} is not a prime number\".format(n))"
   ]
  },
  {
   "cell_type": "code",
   "execution_count": 138,
   "id": "b11a68b7",
   "metadata": {},
   "outputs": [
    {
     "data": {
      "text/plain": [
       "[1, 2, 4]"
      ]
     },
     "execution_count": 138,
     "metadata": {},
     "output_type": "execute_result"
    }
   ],
   "source": [
    "isPrime(4)"
   ]
  },
  {
   "cell_type": "code",
   "execution_count": null,
   "id": "7579d336",
   "metadata": {},
   "outputs": [],
   "source": []
  },
  {
   "cell_type": "code",
   "execution_count": null,
   "id": "5a6c1d19",
   "metadata": {},
   "outputs": [],
   "source": []
  }
 ],
 "metadata": {
  "kernelspec": {
   "display_name": "Python 3",
   "language": "python",
   "name": "python3"
  },
  "language_info": {
   "codemirror_mode": {
    "name": "ipython",
    "version": 3
   },
   "file_extension": ".py",
   "mimetype": "text/x-python",
   "name": "python",
   "nbconvert_exporter": "python",
   "pygments_lexer": "ipython3",
   "version": "3.8.8"
  }
 },
 "nbformat": 4,
 "nbformat_minor": 5
}
