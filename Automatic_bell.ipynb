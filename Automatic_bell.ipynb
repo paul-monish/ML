{
 "cells": [
  {
   "cell_type": "code",
   "execution_count": 3,
   "id": "d75b8ec2",
   "metadata": {},
   "outputs": [],
   "source": [
    "import numpy as np\n",
    "import winsound\n",
    "from datetime import datetime\n",
    "import time\n",
    "import schedule"
   ]
  },
  {
   "cell_type": "code",
   "execution_count": 4,
   "id": "c12c5907",
   "metadata": {},
   "outputs": [
    {
     "name": "stdout",
     "output_type": "stream",
     "text": [
      "<class 'str'>\n",
      "<class 'str'>\n",
      "<class 'str'>\n"
     ]
    }
   ],
   "source": [
    "routin_time_dict={\n",
    "    'monday':{0:'19:32:00',1:'19:33:00',2:'19:34:00'},\n",
    "    'tuesday':{0:'15:22:00',1:'15:23:00',2:'19:24:00'},\n",
    "    'wednesday':{0:'19:32:00',1:'19:33:00',2:'19:34:00'},\n",
    "    'thursday':{0:'19:32:00',1:'19:33:00',2:'19:34:00'},\n",
    "    'friday':{0:'16:15:00',1:'16:16:00',2:'19:34:00'}\n",
    "}\n",
    "# type(routin_time_dict['monday']['start_time'])\n",
    "# t=np.array([\"15:09:00\",\"15:10:00\",\"15:11:00\"])\n",
    "# t[0]\n",
    "# routin_time_dict['wednesday']='7:00:45'##it canbe changed dynamically\n",
    "# routin_time_dict['saturday'][0]\n",
    "for i in routin_time_dict['friday'].values():\n",
    "    print(type(i))\n",
    "  "
   ]
  },
  {
   "cell_type": "code",
   "execution_count": 5,
   "id": "50496860",
   "metadata": {},
   "outputs": [],
   "source": [
    "def bell():\n",
    "    winsound.PlaySound(\"SystemExit\", winsound.SND_ALIAS)\n",
    "#     winsound.MessageBeep(winsound.MB_ICONHAND)"
   ]
  },
  {
   "cell_type": "code",
   "execution_count": 6,
   "id": "18a357b7",
   "metadata": {},
   "outputs": [],
   "source": [
    "bell()"
   ]
  },
  {
   "cell_type": "code",
   "execution_count": 7,
   "id": "55a2b470",
   "metadata": {},
   "outputs": [
    {
     "data": {
      "text/plain": [
       "'04:14:43'"
      ]
     },
     "execution_count": 7,
     "metadata": {},
     "output_type": "execute_result"
    }
   ],
   "source": [
    "curr_time = datetime.now()\n",
    "curr_clock = curr_time.strftime(\"%I:%M:%S\")\n",
    "def loaddata():\n",
    "    current_time = datetime.now().strftime(\"%I:%M:%S\")\n",
    "    print(\"Current Time =\", current_time)\n",
    "curr_clock\n",
    "# type(curr_clock)"
   ]
  },
  {
   "cell_type": "code",
   "execution_count": null,
   "id": "56cef4ea",
   "metadata": {},
   "outputs": [],
   "source": [
    "for i in routin_time_dict['friday'].values():\n",
    "    schedule.every().friday.at(i).do(bell)\n",
    "# schedule.every(5).seconds.do(loaddata)\n",
    "\n",
    "while 1:\n",
    "    schedule.run_pending()\n",
    "    time.sleep(1)"
   ]
  },
  {
   "cell_type": "code",
   "execution_count": 1,
   "id": "afc9555e",
   "metadata": {},
   "outputs": [],
   "source": [
    "# while(True):\n",
    "#     print(curr_clock)\n",
    "#     for i in t.tolist():\n",
    "#         f=0\n",
    "#         if curr_clock == i:\n",
    "#             f=1\n",
    "#             break\n",
    "#     if(f==1):\n",
    "#         bell()        "
   ]
  },
  {
   "cell_type": "code",
   "execution_count": null,
   "id": "0be500e8",
   "metadata": {},
   "outputs": [],
   "source": []
  },
  {
   "cell_type": "code",
   "execution_count": null,
   "id": "4d2f06da",
   "metadata": {},
   "outputs": [],
   "source": []
  },
  {
   "cell_type": "code",
   "execution_count": null,
   "id": "9ae3992e",
   "metadata": {},
   "outputs": [],
   "source": []
  },
  {
   "cell_type": "code",
   "execution_count": null,
   "id": "1a496a59",
   "metadata": {},
   "outputs": [],
   "source": []
  },
  {
   "cell_type": "code",
   "execution_count": null,
   "id": "2b911429",
   "metadata": {},
   "outputs": [],
   "source": []
  },
  {
   "cell_type": "code",
   "execution_count": null,
   "id": "3ab1b0a2",
   "metadata": {},
   "outputs": [],
   "source": []
  },
  {
   "cell_type": "code",
   "execution_count": null,
   "id": "1d4a922c",
   "metadata": {},
   "outputs": [],
   "source": []
  },
  {
   "cell_type": "code",
   "execution_count": null,
   "id": "af175b89",
   "metadata": {},
   "outputs": [],
   "source": []
  },
  {
   "cell_type": "code",
   "execution_count": null,
   "id": "b70459c5",
   "metadata": {},
   "outputs": [],
   "source": []
  },
  {
   "cell_type": "code",
   "execution_count": null,
   "id": "ef05dbdc",
   "metadata": {},
   "outputs": [],
   "source": []
  },
  {
   "cell_type": "code",
   "execution_count": null,
   "id": "44ba75cc",
   "metadata": {},
   "outputs": [],
   "source": []
  },
  {
   "cell_type": "code",
   "execution_count": null,
   "id": "11c9d2b8",
   "metadata": {},
   "outputs": [],
   "source": []
  },
  {
   "cell_type": "code",
   "execution_count": null,
   "id": "ec34d37a",
   "metadata": {},
   "outputs": [],
   "source": []
  },
  {
   "cell_type": "code",
   "execution_count": null,
   "id": "84b8a835",
   "metadata": {},
   "outputs": [],
   "source": []
  },
  {
   "cell_type": "code",
   "execution_count": null,
   "id": "e7161cfb",
   "metadata": {},
   "outputs": [],
   "source": []
  },
  {
   "cell_type": "code",
   "execution_count": null,
   "id": "30d09e5e",
   "metadata": {},
   "outputs": [],
   "source": []
  },
  {
   "cell_type": "code",
   "execution_count": null,
   "id": "11a8c6f1",
   "metadata": {},
   "outputs": [],
   "source": []
  },
  {
   "cell_type": "code",
   "execution_count": null,
   "id": "e0116a88",
   "metadata": {},
   "outputs": [],
   "source": []
  },
  {
   "cell_type": "code",
   "execution_count": null,
   "id": "de174f95",
   "metadata": {},
   "outputs": [],
   "source": []
  },
  {
   "cell_type": "code",
   "execution_count": null,
   "id": "a204cbf1",
   "metadata": {},
   "outputs": [],
   "source": []
  },
  {
   "cell_type": "code",
   "execution_count": null,
   "id": "b3c7f1ae",
   "metadata": {},
   "outputs": [],
   "source": []
  },
  {
   "cell_type": "code",
   "execution_count": null,
   "id": "7310bb43",
   "metadata": {},
   "outputs": [],
   "source": []
  },
  {
   "cell_type": "code",
   "execution_count": null,
   "id": "e8a6fe63",
   "metadata": {},
   "outputs": [],
   "source": []
  },
  {
   "cell_type": "code",
   "execution_count": null,
   "id": "a663c8f5",
   "metadata": {},
   "outputs": [],
   "source": []
  },
  {
   "cell_type": "code",
   "execution_count": null,
   "id": "8fed22df",
   "metadata": {},
   "outputs": [],
   "source": []
  },
  {
   "cell_type": "code",
   "execution_count": null,
   "id": "22653d25",
   "metadata": {},
   "outputs": [],
   "source": []
  },
  {
   "cell_type": "code",
   "execution_count": null,
   "id": "3b1f2cb3",
   "metadata": {},
   "outputs": [],
   "source": []
  },
  {
   "cell_type": "code",
   "execution_count": null,
   "id": "4cdf14f8",
   "metadata": {},
   "outputs": [],
   "source": []
  }
 ],
 "metadata": {
  "kernelspec": {
   "display_name": "Python 3",
   "language": "python",
   "name": "python3"
  },
  "language_info": {
   "codemirror_mode": {
    "name": "ipython",
    "version": 3
   },
   "file_extension": ".py",
   "mimetype": "text/x-python",
   "name": "python",
   "nbconvert_exporter": "python",
   "pygments_lexer": "ipython3",
   "version": "3.8.8"
  }
 },
 "nbformat": 4,
 "nbformat_minor": 5
}
